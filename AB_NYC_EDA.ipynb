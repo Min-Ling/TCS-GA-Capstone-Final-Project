{
 "cells": [
  {
   "cell_type": "code",
   "execution_count": 1,
   "id": "1578e701",
   "metadata": {},
   "outputs": [],
   "source": [
    "# lib imports\n",
    "import pandas as pd\n",
    "import matplotlib.pyplot as plt\n",
    "import seaborn as sns\n",
    "import numpy as np\n",
    "from numpy import mean\n",
    "from sklearn.linear_model import LinearRegression\n",
    "from sklearn.neighbors import KNeighborsRegressor\n",
    "from sklearn.tree import DecisionTreeRegressor\n",
    "from sklearn.model_selection import train_test_split\n",
    "from sklearn.metrics import r2_score\n",
    "from sklearn.metrics import mean_squared_error\n",
    "from sklearn import metrics\n",
    "from scipy.stats import boxcox\n",
    "from scipy.stats import norm\n",
    "\n",
    "%matplotlib inline\n",
    "plt.style.use('fivethirtyeight') "
   ]
  },
  {
   "cell_type": "code",
   "execution_count": 2,
   "id": "c3eb4eeb",
   "metadata": {},
   "outputs": [],
   "source": [
    "data = pd.read_csv('datasets/AB_NYC_2019.csv')"
   ]
  },
  {
   "cell_type": "code",
   "execution_count": 3,
   "id": "65591053",
   "metadata": {},
   "outputs": [
    {
     "data": {
      "text/plain": [
       "(48895, 16)"
      ]
     },
     "execution_count": 3,
     "metadata": {},
     "output_type": "execute_result"
    }
   ],
   "source": [
    "data.shape"
   ]
  },
  {
   "cell_type": "code",
   "execution_count": 4,
   "id": "a989e720",
   "metadata": {},
   "outputs": [
    {
     "data": {
      "text/html": [
       "<div>\n",
       "<style scoped>\n",
       "    .dataframe tbody tr th:only-of-type {\n",
       "        vertical-align: middle;\n",
       "    }\n",
       "\n",
       "    .dataframe tbody tr th {\n",
       "        vertical-align: top;\n",
       "    }\n",
       "\n",
       "    .dataframe thead th {\n",
       "        text-align: right;\n",
       "    }\n",
       "</style>\n",
       "<table border=\"1\" class=\"dataframe\">\n",
       "  <thead>\n",
       "    <tr style=\"text-align: right;\">\n",
       "      <th></th>\n",
       "      <th>id</th>\n",
       "      <th>name</th>\n",
       "      <th>host_id</th>\n",
       "      <th>host_name</th>\n",
       "      <th>neighbourhood_group</th>\n",
       "      <th>neighbourhood</th>\n",
       "      <th>latitude</th>\n",
       "      <th>longitude</th>\n",
       "      <th>room_type</th>\n",
       "      <th>price</th>\n",
       "      <th>minimum_nights</th>\n",
       "      <th>number_of_reviews</th>\n",
       "      <th>last_review</th>\n",
       "      <th>reviews_per_month</th>\n",
       "      <th>calculated_host_listings_count</th>\n",
       "      <th>availability_365</th>\n",
       "    </tr>\n",
       "  </thead>\n",
       "  <tbody>\n",
       "    <tr>\n",
       "      <th>0</th>\n",
       "      <td>2539</td>\n",
       "      <td>Clean &amp; quiet apt home by the park</td>\n",
       "      <td>2787</td>\n",
       "      <td>John</td>\n",
       "      <td>Brooklyn</td>\n",
       "      <td>Kensington</td>\n",
       "      <td>40.64749</td>\n",
       "      <td>-73.97237</td>\n",
       "      <td>Private room</td>\n",
       "      <td>149</td>\n",
       "      <td>1</td>\n",
       "      <td>9</td>\n",
       "      <td>2018-10-19</td>\n",
       "      <td>0.21</td>\n",
       "      <td>6</td>\n",
       "      <td>365</td>\n",
       "    </tr>\n",
       "    <tr>\n",
       "      <th>1</th>\n",
       "      <td>2595</td>\n",
       "      <td>Skylit Midtown Castle</td>\n",
       "      <td>2845</td>\n",
       "      <td>Jennifer</td>\n",
       "      <td>Manhattan</td>\n",
       "      <td>Midtown</td>\n",
       "      <td>40.75362</td>\n",
       "      <td>-73.98377</td>\n",
       "      <td>Entire home/apt</td>\n",
       "      <td>225</td>\n",
       "      <td>1</td>\n",
       "      <td>45</td>\n",
       "      <td>2019-05-21</td>\n",
       "      <td>0.38</td>\n",
       "      <td>2</td>\n",
       "      <td>355</td>\n",
       "    </tr>\n",
       "    <tr>\n",
       "      <th>2</th>\n",
       "      <td>3647</td>\n",
       "      <td>THE VILLAGE OF HARLEM....NEW YORK !</td>\n",
       "      <td>4632</td>\n",
       "      <td>Elisabeth</td>\n",
       "      <td>Manhattan</td>\n",
       "      <td>Harlem</td>\n",
       "      <td>40.80902</td>\n",
       "      <td>-73.94190</td>\n",
       "      <td>Private room</td>\n",
       "      <td>150</td>\n",
       "      <td>3</td>\n",
       "      <td>0</td>\n",
       "      <td>NaN</td>\n",
       "      <td>NaN</td>\n",
       "      <td>1</td>\n",
       "      <td>365</td>\n",
       "    </tr>\n",
       "    <tr>\n",
       "      <th>3</th>\n",
       "      <td>3831</td>\n",
       "      <td>Cozy Entire Floor of Brownstone</td>\n",
       "      <td>4869</td>\n",
       "      <td>LisaRoxanne</td>\n",
       "      <td>Brooklyn</td>\n",
       "      <td>Clinton Hill</td>\n",
       "      <td>40.68514</td>\n",
       "      <td>-73.95976</td>\n",
       "      <td>Entire home/apt</td>\n",
       "      <td>89</td>\n",
       "      <td>1</td>\n",
       "      <td>270</td>\n",
       "      <td>2019-07-05</td>\n",
       "      <td>4.64</td>\n",
       "      <td>1</td>\n",
       "      <td>194</td>\n",
       "    </tr>\n",
       "    <tr>\n",
       "      <th>4</th>\n",
       "      <td>5022</td>\n",
       "      <td>Entire Apt: Spacious Studio/Loft by central park</td>\n",
       "      <td>7192</td>\n",
       "      <td>Laura</td>\n",
       "      <td>Manhattan</td>\n",
       "      <td>East Harlem</td>\n",
       "      <td>40.79851</td>\n",
       "      <td>-73.94399</td>\n",
       "      <td>Entire home/apt</td>\n",
       "      <td>80</td>\n",
       "      <td>10</td>\n",
       "      <td>9</td>\n",
       "      <td>2018-11-19</td>\n",
       "      <td>0.10</td>\n",
       "      <td>1</td>\n",
       "      <td>0</td>\n",
       "    </tr>\n",
       "  </tbody>\n",
       "</table>\n",
       "</div>"
      ],
      "text/plain": [
       "     id                                              name  host_id  \\\n",
       "0  2539                Clean & quiet apt home by the park     2787   \n",
       "1  2595                             Skylit Midtown Castle     2845   \n",
       "2  3647               THE VILLAGE OF HARLEM....NEW YORK !     4632   \n",
       "3  3831                   Cozy Entire Floor of Brownstone     4869   \n",
       "4  5022  Entire Apt: Spacious Studio/Loft by central park     7192   \n",
       "\n",
       "     host_name neighbourhood_group neighbourhood  latitude  longitude  \\\n",
       "0         John            Brooklyn    Kensington  40.64749  -73.97237   \n",
       "1     Jennifer           Manhattan       Midtown  40.75362  -73.98377   \n",
       "2    Elisabeth           Manhattan        Harlem  40.80902  -73.94190   \n",
       "3  LisaRoxanne            Brooklyn  Clinton Hill  40.68514  -73.95976   \n",
       "4        Laura           Manhattan   East Harlem  40.79851  -73.94399   \n",
       "\n",
       "         room_type  price  minimum_nights  number_of_reviews last_review  \\\n",
       "0     Private room    149               1                  9  2018-10-19   \n",
       "1  Entire home/apt    225               1                 45  2019-05-21   \n",
       "2     Private room    150               3                  0         NaN   \n",
       "3  Entire home/apt     89               1                270  2019-07-05   \n",
       "4  Entire home/apt     80              10                  9  2018-11-19   \n",
       "\n",
       "   reviews_per_month  calculated_host_listings_count  availability_365  \n",
       "0               0.21                               6               365  \n",
       "1               0.38                               2               355  \n",
       "2                NaN                               1               365  \n",
       "3               4.64                               1               194  \n",
       "4               0.10                               1                 0  "
      ]
     },
     "execution_count": 4,
     "metadata": {},
     "output_type": "execute_result"
    }
   ],
   "source": [
    "data.head()"
   ]
  },
  {
   "cell_type": "code",
   "execution_count": 5,
   "id": "3e6a098e",
   "metadata": {},
   "outputs": [
    {
     "name": "stdout",
     "output_type": "stream",
     "text": [
      "<class 'pandas.core.frame.DataFrame'>\n",
      "RangeIndex: 48895 entries, 0 to 48894\n",
      "Data columns (total 16 columns):\n",
      " #   Column                          Non-Null Count  Dtype  \n",
      "---  ------                          --------------  -----  \n",
      " 0   id                              48895 non-null  int64  \n",
      " 1   name                            48879 non-null  object \n",
      " 2   host_id                         48895 non-null  int64  \n",
      " 3   host_name                       48874 non-null  object \n",
      " 4   neighbourhood_group             48895 non-null  object \n",
      " 5   neighbourhood                   48895 non-null  object \n",
      " 6   latitude                        48895 non-null  float64\n",
      " 7   longitude                       48895 non-null  float64\n",
      " 8   room_type                       48895 non-null  object \n",
      " 9   price                           48895 non-null  int64  \n",
      " 10  minimum_nights                  48895 non-null  int64  \n",
      " 11  number_of_reviews               48895 non-null  int64  \n",
      " 12  last_review                     38843 non-null  object \n",
      " 13  reviews_per_month               38843 non-null  float64\n",
      " 14  calculated_host_listings_count  48895 non-null  int64  \n",
      " 15  availability_365                48895 non-null  int64  \n",
      "dtypes: float64(3), int64(7), object(6)\n",
      "memory usage: 6.0+ MB\n"
     ]
    }
   ],
   "source": [
    "data.info()"
   ]
  },
  {
   "cell_type": "markdown",
   "id": "76ceccd6",
   "metadata": {},
   "source": [
    "*name, host_name, last_review, and reviews_per_months* columns contain null values"
   ]
  },
  {
   "cell_type": "markdown",
   "id": "bd15b7a8",
   "metadata": {},
   "source": [
    "### Visualization & Statistical Analysis"
   ]
  },
  {
   "cell_type": "markdown",
   "id": "7ed3345c",
   "metadata": {},
   "source": [
    "**Comparing mean price of all listings across different neighbour groups**"
   ]
  },
  {
   "cell_type": "code",
   "execution_count": 6,
   "id": "42071028",
   "metadata": {},
   "outputs": [
    {
     "data": {
      "text/plain": [
       "<AxesSubplot:xlabel='neighbourhood_group', ylabel='price'>"
      ]
     },
     "execution_count": 6,
     "metadata": {},
     "output_type": "execute_result"
    },
    {
     "data": {
      "image/png": "[encoded data removed]",
      "text/plain": [
       "<Figure size 432x288 with 1 Axes>"
      ]
     },
     "metadata": {},
     "output_type": "display_data"
    }
   ],
   "source": [
    "sns.barplot(x='neighbourhood_group', y='price', data=data, estimator=mean)"
   ]
  },
  {
   "cell_type": "code",
   "execution_count": 7,
   "id": "6ce18336",
   "metadata": {},
   "outputs": [
    {
     "data": {
      "text/plain": [
       "<AxesSubplot:xlabel='room_type', ylabel='price'>"
      ]
     },
     "execution_count": 7,
     "metadata": {},
     "output_type": "execute_result"
    },
    {
     "data": {
      "image/png": "[encoded data removed]",
      "text/plain": [
       "<Figure size 432x288 with 1 Axes>"
      ]
     },
     "metadata": {},
     "output_type": "display_data"
    }
   ],
   "source": [
    "sns.barplot(x='room_type', y='price', data=data, estimator=mean)"
   ]
  },
  {
   "cell_type": "markdown",
   "id": "acc0a50f",
   "metadata": {},
   "source": [
    "For the room type, entire home/apt has the highest mean price in the New York City Airbnb listing. 7"
   ]
  },
  {
   "cell_type": "markdown",
   "id": "af8d647f",
   "metadata": {},
   "source": [
    "**Comparing mean price of different room types across different neighbourhood groups**"
   ]
  },
  {
   "cell_type": "code",
   "execution_count": 8,
   "id": "da3d8b6e",
   "metadata": {},
   "outputs": [
    {
     "data": {
      "text/html": [
       "<div>\n",
       "<style scoped>\n",
       "    .dataframe tbody tr th:only-of-type {\n",
       "        vertical-align: middle;\n",
       "    }\n",
       "\n",
       "    .dataframe tbody tr th {\n",
       "        vertical-align: top;\n",
       "    }\n",
       "\n",
       "    .dataframe thead th {\n",
       "        text-align: right;\n",
       "    }\n",
       "</style>\n",
       "<table border=\"1\" class=\"dataframe\">\n",
       "  <thead>\n",
       "    <tr style=\"text-align: right;\">\n",
       "      <th></th>\n",
       "      <th></th>\n",
       "      <th>price</th>\n",
       "    </tr>\n",
       "    <tr>\n",
       "      <th>room_type</th>\n",
       "      <th>neighbourhood_group</th>\n",
       "      <th></th>\n",
       "    </tr>\n",
       "  </thead>\n",
       "  <tbody>\n",
       "    <tr>\n",
       "      <th rowspan=\"5\" valign=\"top\">Entire home/apt</th>\n",
       "      <th>Bronx</th>\n",
       "      <td>127.506596</td>\n",
       "    </tr>\n",
       "    <tr>\n",
       "      <th>Brooklyn</th>\n",
       "      <td>178.327545</td>\n",
       "    </tr>\n",
       "    <tr>\n",
       "      <th>Manhattan</th>\n",
       "      <td>249.239109</td>\n",
       "    </tr>\n",
       "    <tr>\n",
       "      <th>Queens</th>\n",
       "      <td>147.050573</td>\n",
       "    </tr>\n",
       "    <tr>\n",
       "      <th>Staten Island</th>\n",
       "      <td>173.846591</td>\n",
       "    </tr>\n",
       "    <tr>\n",
       "      <th rowspan=\"5\" valign=\"top\">Private room</th>\n",
       "      <th>Bronx</th>\n",
       "      <td>66.788344</td>\n",
       "    </tr>\n",
       "    <tr>\n",
       "      <th>Brooklyn</th>\n",
       "      <td>76.500099</td>\n",
       "    </tr>\n",
       "    <tr>\n",
       "      <th>Manhattan</th>\n",
       "      <td>116.776622</td>\n",
       "    </tr>\n",
       "    <tr>\n",
       "      <th>Queens</th>\n",
       "      <td>71.762456</td>\n",
       "    </tr>\n",
       "    <tr>\n",
       "      <th>Staten Island</th>\n",
       "      <td>62.292553</td>\n",
       "    </tr>\n",
       "    <tr>\n",
       "      <th rowspan=\"5\" valign=\"top\">Shared room</th>\n",
       "      <th>Bronx</th>\n",
       "      <td>59.800000</td>\n",
       "    </tr>\n",
       "    <tr>\n",
       "      <th>Brooklyn</th>\n",
       "      <td>50.527845</td>\n",
       "    </tr>\n",
       "    <tr>\n",
       "      <th>Manhattan</th>\n",
       "      <td>88.977083</td>\n",
       "    </tr>\n",
       "    <tr>\n",
       "      <th>Queens</th>\n",
       "      <td>69.020202</td>\n",
       "    </tr>\n",
       "    <tr>\n",
       "      <th>Staten Island</th>\n",
       "      <td>57.444444</td>\n",
       "    </tr>\n",
       "  </tbody>\n",
       "</table>\n",
       "</div>"
      ],
      "text/plain": [
       "                                          price\n",
       "room_type       neighbourhood_group            \n",
       "Entire home/apt Bronx                127.506596\n",
       "                Brooklyn             178.327545\n",
       "                Manhattan            249.239109\n",
       "                Queens               147.050573\n",
       "                Staten Island        173.846591\n",
       "Private room    Bronx                 66.788344\n",
       "                Brooklyn              76.500099\n",
       "                Manhattan            116.776622\n",
       "                Queens                71.762456\n",
       "                Staten Island         62.292553\n",
       "Shared room     Bronx                 59.800000\n",
       "                Brooklyn              50.527845\n",
       "                Manhattan             88.977083\n",
       "                Queens                69.020202\n",
       "                Staten Island         57.444444"
      ]
     },
     "execution_count": 8,
     "metadata": {},
     "output_type": "execute_result"
    }
   ],
   "source": [
    "pd.DataFrame(data.groupby(['room_type','neighbourhood_group']).price.mean())"
   ]
  },
  {
   "cell_type": "code",
   "execution_count": 9,
   "id": "0a5fd055",
   "metadata": {},
   "outputs": [
    {
     "data": {
      "text/plain": [
       "<AxesSubplot:title={'center':'Shared Room'}, xlabel='neighbourhood_group', ylabel='price'>"
      ]
     },
     "execution_count": 9,
     "metadata": {},
     "output_type": "execute_result"
    },
    {
     "data": {
      "image/png": "[encoded data removed]",
      "text/plain": [
       "<Figure size 1080x576 with 3 Axes>"
      ]
     },
     "metadata": {},
     "output_type": "display_data"
    }
   ],
   "source": [
    "fig, ax = plt.subplots(figsize=(15, 8))\n",
    "\n",
    "plt.subplot(2,3,1)\n",
    "plt.xticks(rotation=45)\n",
    "plt.title('Private Room')\n",
    "sns.barplot(data=data[data.room_type=='Private room'].sort_values('neighbourhood_group'), x='neighbourhood_group', y='price')\n",
    "\n",
    "plt.subplot(2,3,2)\n",
    "plt.xticks(rotation=45)\n",
    "plt.title('Entire home/apt')\n",
    "sns.barplot(data=data[data.room_type=='Entire home/apt'].sort_values('neighbourhood_group'), x='neighbourhood_group', y='price')\n",
    "\n",
    "plt.subplot(2,3,3)\n",
    "plt.xticks(rotation=45)\n",
    "plt.title('Shared Room')\n",
    "sns.barplot(data=data[data.room_type=='Shared room'].sort_values('neighbourhood_group'), x='neighbourhood_group', y='price')"
   ]
  },
  {
   "cell_type": "markdown",
   "id": "736cff0a",
   "metadata": {},
   "source": [
    "This shows the average listing price across different neighbourhood groups and room types. \n",
    "\n",
    "* Manhattan has the highest mean price among other neighbourhood for all room types\n",
    "* Brooklyn has the least mean price for the room type - 'Shared Room'\n",
    "* Staten Island has the least mean price for the room type - 'Private Room'\n",
    "* Bronx has the least mean price for the room type -'Entire home/apt' "
   ]
  },
  {
   "cell_type": "markdown",
   "id": "0f053508",
   "metadata": {},
   "source": [
    "**Comparing number of listings based on neighbourhood group and room type**"
   ]
  },
  {
   "cell_type": "code",
   "execution_count": 10,
   "id": "3a5bfb07",
   "metadata": {},
   "outputs": [
    {
     "data": {
      "text/plain": [
       "Text(0.5, 1.0, 'Number of Listings In Each Neighbourhood Group')"
      ]
     },
     "execution_count": 10,
     "metadata": {},
     "output_type": "execute_result"
    },
    {
     "data": {
      "image/png": "[encoded data removed]",
      "text/plain": [
       "<Figure size 432x288 with 1 Axes>"
      ]
     },
     "metadata": {},
     "output_type": "display_data"
    }
   ],
   "source": [
    "data.neighbourhood_group.value_counts().plot(kind='bar')\n",
    "\n",
    "plt.rcParams.update({'font.size': 8})\n",
    "plt.xlabel('Neighbourhood Group')\n",
    "plt.ylabel('Listings')\n",
    "plt.title('Number of Listings In Each Neighbourhood Group')"
   ]
  },
  {
   "cell_type": "code",
   "execution_count": 11,
   "id": "ce22da3a",
   "metadata": {},
   "outputs": [
    {
     "data": {
      "text/plain": [
       "Text(0.5, 1.0, 'Number of Listings For Each Room Type')"
      ]
     },
     "execution_count": 11,
     "metadata": {},
     "output_type": "execute_result"
    },
    {
     "data": {
      "image/png": "[encoded data removed]",
      "text/plain": [
       "<Figure size 432x288 with 1 Axes>"
      ]
     },
     "metadata": {},
     "output_type": "display_data"
    }
   ],
   "source": [
    "data.room_type.value_counts().plot(kind='bar')\n",
    "\n",
    "plt.rcParams.update({'font.size': 8})\n",
    "plt.xlabel('Room Types')\n",
    "plt.ylabel('Listings')\n",
    "plt.title('Number of Listings For Each Room Type')"
   ]
  },
  {
   "cell_type": "markdown",
   "id": "2c62fba2",
   "metadata": {},
   "source": [
    "**Comparing number of listings of different room types listed across different neighbour groups**"
   ]
  },
  {
   "cell_type": "code",
   "execution_count": 12,
   "id": "904d592f",
   "metadata": {},
   "outputs": [
    {
     "data": {
      "text/plain": [
       "<AxesSubplot:xlabel='neighbourhood_group', ylabel='count'>"
      ]
     },
     "execution_count": 12,
     "metadata": {},
     "output_type": "execute_result"
    },
    {
     "data": {
      "image/png": "[encoded data removed]",
      "text/plain": [
       "<Figure size 432x288 with 1 Axes>"
      ]
     },
     "metadata": {},
     "output_type": "display_data"
    }
   ],
   "source": [
    "sns.countplot(data=data, x='neighbourhood_group', hue='room_type')"
   ]
  },
  {
   "cell_type": "markdown",
   "id": "700c0355",
   "metadata": {},
   "source": [
    "Most of Manhattan listings constitute mostly of the room type - 'Entire home/apt'. Other neighbourhoods have a relatively equal listings between 'Private room' and 'Entire home/apt'. "
   ]
  },
  {
   "cell_type": "markdown",
   "id": "50ffc0f6",
   "metadata": {},
   "source": [
    "### Handle missing data"
   ]
  },
  {
   "cell_type": "code",
   "execution_count": 13,
   "id": "9124c052",
   "metadata": {},
   "outputs": [
    {
     "data": {
      "text/plain": [
       "id                                    0\n",
       "name                                 16\n",
       "host_id                               0\n",
       "host_name                            21\n",
       "neighbourhood_group                   0\n",
       "neighbourhood                         0\n",
       "latitude                              0\n",
       "longitude                             0\n",
       "room_type                             0\n",
       "price                                 0\n",
       "minimum_nights                        0\n",
       "number_of_reviews                     0\n",
       "last_review                       10052\n",
       "reviews_per_month                 10052\n",
       "calculated_host_listings_count        0\n",
       "availability_365                      0\n",
       "dtype: int64"
      ]
     },
     "execution_count": 13,
     "metadata": {},
     "output_type": "execute_result"
    }
   ],
   "source": [
    "data.isnull().sum()"
   ]
  },
  {
   "cell_type": "code",
   "execution_count": 14,
   "id": "31c8f7a5",
   "metadata": {},
   "outputs": [],
   "source": [
    "# Replace NaN with value 0\n",
    "data.reviews_per_month.fillna(value=0, inplace=True)"
   ]
  },
  {
   "cell_type": "code",
   "execution_count": 15,
   "id": "3b4ac495",
   "metadata": {},
   "outputs": [
    {
     "data": {
      "text/plain": [
       "0"
      ]
     },
     "execution_count": 15,
     "metadata": {},
     "output_type": "execute_result"
    }
   ],
   "source": [
    "data.reviews_per_month.isnull().sum()"
   ]
  },
  {
   "cell_type": "markdown",
   "id": "3f0e2d41",
   "metadata": {},
   "source": [
    "**Remove listings with price equals $0**"
   ]
  },
  {
   "cell_type": "code",
   "execution_count": 16,
   "id": "43693efe",
   "metadata": {},
   "outputs": [
    {
     "data": {
      "text/plain": [
       "count    48895.000000\n",
       "mean       152.720687\n",
       "std        240.154170\n",
       "min          0.000000\n",
       "25%         69.000000\n",
       "50%        106.000000\n",
       "75%        175.000000\n",
       "max      10000.000000\n",
       "Name: price, dtype: float64"
      ]
     },
     "execution_count": 16,
     "metadata": {},
     "output_type": "execute_result"
    }
   ],
   "source": [
    "data.price.describe()"
   ]
  },
  {
   "cell_type": "code",
   "execution_count": 17,
   "id": "5b5657ec",
   "metadata": {},
   "outputs": [],
   "source": [
    "# Get row index to be removed\n",
    "rows_index = data.loc[data.price == 0].index\n",
    "\n",
    "# Remove rows from dataframe\n",
    "data.drop(rows_index, inplace=True)"
   ]
  },
  {
   "cell_type": "markdown",
   "id": "4117051d",
   "metadata": {},
   "source": [
    "The objective is to suggest a suitable pricing according to the neighbourhood which the property is located at and the room type. The correlation between the price and columns containing the missing value will be calculated and analyzed. "
   ]
  },
  {
   "cell_type": "markdown",
   "id": "4829c797",
   "metadata": {},
   "source": [
    "**Remove columns**"
   ]
  },
  {
   "cell_type": "code",
   "execution_count": 18,
   "id": "0872a2f4",
   "metadata": {},
   "outputs": [],
   "source": [
    "data.drop(columns=['id', 'name', 'host_id', 'host_name', 'last_review'], inplace=True)"
   ]
  },
  {
   "cell_type": "code",
   "execution_count": 19,
   "id": "88d3eec7",
   "metadata": {},
   "outputs": [
    {
     "data": {
      "text/html": [
       "<div>\n",
       "<style scoped>\n",
       "    .dataframe tbody tr th:only-of-type {\n",
       "        vertical-align: middle;\n",
       "    }\n",
       "\n",
       "    .dataframe tbody tr th {\n",
       "        vertical-align: top;\n",
       "    }\n",
       "\n",
       "    .dataframe thead th {\n",
       "        text-align: right;\n",
       "    }\n",
       "</style>\n",
       "<table border=\"1\" class=\"dataframe\">\n",
       "  <thead>\n",
       "    <tr style=\"text-align: right;\">\n",
       "      <th></th>\n",
       "      <th>neighbourhood_group</th>\n",
       "      <th>neighbourhood</th>\n",
       "      <th>latitude</th>\n",
       "      <th>longitude</th>\n",
       "      <th>room_type</th>\n",
       "      <th>price</th>\n",
       "      <th>minimum_nights</th>\n",
       "      <th>number_of_reviews</th>\n",
       "      <th>reviews_per_month</th>\n",
       "      <th>calculated_host_listings_count</th>\n",
       "      <th>availability_365</th>\n",
       "    </tr>\n",
       "  </thead>\n",
       "  <tbody>\n",
       "    <tr>\n",
       "      <th>0</th>\n",
       "      <td>Brooklyn</td>\n",
       "      <td>Kensington</td>\n",
       "      <td>40.64749</td>\n",
       "      <td>-73.97237</td>\n",
       "      <td>Private room</td>\n",
       "      <td>149</td>\n",
       "      <td>1</td>\n",
       "      <td>9</td>\n",
       "      <td>0.21</td>\n",
       "      <td>6</td>\n",
       "      <td>365</td>\n",
       "    </tr>\n",
       "    <tr>\n",
       "      <th>1</th>\n",
       "      <td>Manhattan</td>\n",
       "      <td>Midtown</td>\n",
       "      <td>40.75362</td>\n",
       "      <td>-73.98377</td>\n",
       "      <td>Entire home/apt</td>\n",
       "      <td>225</td>\n",
       "      <td>1</td>\n",
       "      <td>45</td>\n",
       "      <td>0.38</td>\n",
       "      <td>2</td>\n",
       "      <td>355</td>\n",
       "    </tr>\n",
       "    <tr>\n",
       "      <th>2</th>\n",
       "      <td>Manhattan</td>\n",
       "      <td>Harlem</td>\n",
       "      <td>40.80902</td>\n",
       "      <td>-73.94190</td>\n",
       "      <td>Private room</td>\n",
       "      <td>150</td>\n",
       "      <td>3</td>\n",
       "      <td>0</td>\n",
       "      <td>0.00</td>\n",
       "      <td>1</td>\n",
       "      <td>365</td>\n",
       "    </tr>\n",
       "    <tr>\n",
       "      <th>3</th>\n",
       "      <td>Brooklyn</td>\n",
       "      <td>Clinton Hill</td>\n",
       "      <td>40.68514</td>\n",
       "      <td>-73.95976</td>\n",
       "      <td>Entire home/apt</td>\n",
       "      <td>89</td>\n",
       "      <td>1</td>\n",
       "      <td>270</td>\n",
       "      <td>4.64</td>\n",
       "      <td>1</td>\n",
       "      <td>194</td>\n",
       "    </tr>\n",
       "    <tr>\n",
       "      <th>4</th>\n",
       "      <td>Manhattan</td>\n",
       "      <td>East Harlem</td>\n",
       "      <td>40.79851</td>\n",
       "      <td>-73.94399</td>\n",
       "      <td>Entire home/apt</td>\n",
       "      <td>80</td>\n",
       "      <td>10</td>\n",
       "      <td>9</td>\n",
       "      <td>0.10</td>\n",
       "      <td>1</td>\n",
       "      <td>0</td>\n",
       "    </tr>\n",
       "  </tbody>\n",
       "</table>\n",
       "</div>"
      ],
      "text/plain": [
       "  neighbourhood_group neighbourhood  latitude  longitude        room_type  \\\n",
       "0            Brooklyn    Kensington  40.64749  -73.97237     Private room   \n",
       "1           Manhattan       Midtown  40.75362  -73.98377  Entire home/apt   \n",
       "2           Manhattan        Harlem  40.80902  -73.94190     Private room   \n",
       "3            Brooklyn  Clinton Hill  40.68514  -73.95976  Entire home/apt   \n",
       "4           Manhattan   East Harlem  40.79851  -73.94399  Entire home/apt   \n",
       "\n",
       "   price  minimum_nights  number_of_reviews  reviews_per_month  \\\n",
       "0    149               1                  9               0.21   \n",
       "1    225               1                 45               0.38   \n",
       "2    150               3                  0               0.00   \n",
       "3     89               1                270               4.64   \n",
       "4     80              10                  9               0.10   \n",
       "\n",
       "   calculated_host_listings_count  availability_365  \n",
       "0                               6               365  \n",
       "1                               2               355  \n",
       "2                               1               365  \n",
       "3                               1               194  \n",
       "4                               1                 0  "
      ]
     },
     "execution_count": 19,
     "metadata": {},
     "output_type": "execute_result"
    }
   ],
   "source": [
    "data.head()"
   ]
  },
  {
   "cell_type": "markdown",
   "id": "d7fe0137",
   "metadata": {},
   "source": [
    "### Correlation"
   ]
  },
  {
   "cell_type": "code",
   "execution_count": 20,
   "id": "48cdaf7e",
   "metadata": {},
   "outputs": [
    {
     "data": {
      "text/html": [
       "<div>\n",
       "<style scoped>\n",
       "    .dataframe tbody tr th:only-of-type {\n",
       "        vertical-align: middle;\n",
       "    }\n",
       "\n",
       "    .dataframe tbody tr th {\n",
       "        vertical-align: top;\n",
       "    }\n",
       "\n",
       "    .dataframe thead th {\n",
       "        text-align: right;\n",
       "    }\n",
       "</style>\n",
       "<table border=\"1\" class=\"dataframe\">\n",
       "  <thead>\n",
       "    <tr style=\"text-align: right;\">\n",
       "      <th></th>\n",
       "      <th>latitude</th>\n",
       "      <th>longitude</th>\n",
       "      <th>price</th>\n",
       "      <th>minimum_nights</th>\n",
       "      <th>number_of_reviews</th>\n",
       "      <th>reviews_per_month</th>\n",
       "      <th>calculated_host_listings_count</th>\n",
       "      <th>availability_365</th>\n",
       "    </tr>\n",
       "  </thead>\n",
       "  <tbody>\n",
       "    <tr>\n",
       "      <th>latitude</th>\n",
       "      <td>1.000000</td>\n",
       "      <td>0.084830</td>\n",
       "      <td>0.033899</td>\n",
       "      <td>0.024893</td>\n",
       "      <td>-0.015357</td>\n",
       "      <td>-0.018719</td>\n",
       "      <td>0.019518</td>\n",
       "      <td>-0.010942</td>\n",
       "    </tr>\n",
       "    <tr>\n",
       "      <th>longitude</th>\n",
       "      <td>0.084830</td>\n",
       "      <td>1.000000</td>\n",
       "      <td>-0.149954</td>\n",
       "      <td>-0.062772</td>\n",
       "      <td>0.059015</td>\n",
       "      <td>0.138435</td>\n",
       "      <td>-0.114715</td>\n",
       "      <td>0.082669</td>\n",
       "    </tr>\n",
       "    <tr>\n",
       "      <th>price</th>\n",
       "      <td>0.033899</td>\n",
       "      <td>-0.149954</td>\n",
       "      <td>1.000000</td>\n",
       "      <td>0.042805</td>\n",
       "      <td>-0.047926</td>\n",
       "      <td>-0.050531</td>\n",
       "      <td>0.057462</td>\n",
       "      <td>0.081847</td>\n",
       "    </tr>\n",
       "    <tr>\n",
       "      <th>minimum_nights</th>\n",
       "      <td>0.024893</td>\n",
       "      <td>-0.062772</td>\n",
       "      <td>0.042805</td>\n",
       "      <td>1.000000</td>\n",
       "      <td>-0.080080</td>\n",
       "      <td>-0.124870</td>\n",
       "      <td>0.127962</td>\n",
       "      <td>0.144275</td>\n",
       "    </tr>\n",
       "    <tr>\n",
       "      <th>number_of_reviews</th>\n",
       "      <td>-0.015357</td>\n",
       "      <td>0.059015</td>\n",
       "      <td>-0.047926</td>\n",
       "      <td>-0.080080</td>\n",
       "      <td>1.000000</td>\n",
       "      <td>0.589311</td>\n",
       "      <td>-0.072385</td>\n",
       "      <td>0.171975</td>\n",
       "    </tr>\n",
       "    <tr>\n",
       "      <th>reviews_per_month</th>\n",
       "      <td>-0.018719</td>\n",
       "      <td>0.138435</td>\n",
       "      <td>-0.050531</td>\n",
       "      <td>-0.124870</td>\n",
       "      <td>0.589311</td>\n",
       "      <td>1.000000</td>\n",
       "      <td>-0.047322</td>\n",
       "      <td>0.163664</td>\n",
       "    </tr>\n",
       "    <tr>\n",
       "      <th>calculated_host_listings_count</th>\n",
       "      <td>0.019518</td>\n",
       "      <td>-0.114715</td>\n",
       "      <td>0.057462</td>\n",
       "      <td>0.127962</td>\n",
       "      <td>-0.072385</td>\n",
       "      <td>-0.047322</td>\n",
       "      <td>1.000000</td>\n",
       "      <td>0.225712</td>\n",
       "    </tr>\n",
       "    <tr>\n",
       "      <th>availability_365</th>\n",
       "      <td>-0.010942</td>\n",
       "      <td>0.082669</td>\n",
       "      <td>0.081847</td>\n",
       "      <td>0.144275</td>\n",
       "      <td>0.171975</td>\n",
       "      <td>0.163664</td>\n",
       "      <td>0.225712</td>\n",
       "      <td>1.000000</td>\n",
       "    </tr>\n",
       "  </tbody>\n",
       "</table>\n",
       "</div>"
      ],
      "text/plain": [
       "                                latitude  longitude     price  minimum_nights  \\\n",
       "latitude                        1.000000   0.084830  0.033899        0.024893   \n",
       "longitude                       0.084830   1.000000 -0.149954       -0.062772   \n",
       "price                           0.033899  -0.149954  1.000000        0.042805   \n",
       "minimum_nights                  0.024893  -0.062772  0.042805        1.000000   \n",
       "number_of_reviews              -0.015357   0.059015 -0.047926       -0.080080   \n",
       "reviews_per_month              -0.018719   0.138435 -0.050531       -0.124870   \n",
       "calculated_host_listings_count  0.019518  -0.114715  0.057462        0.127962   \n",
       "availability_365               -0.010942   0.082669  0.081847        0.144275   \n",
       "\n",
       "                                number_of_reviews  reviews_per_month  \\\n",
       "latitude                                -0.015357          -0.018719   \n",
       "longitude                                0.059015           0.138435   \n",
       "price                                   -0.047926          -0.050531   \n",
       "minimum_nights                          -0.080080          -0.124870   \n",
       "number_of_reviews                        1.000000           0.589311   \n",
       "reviews_per_month                        0.589311           1.000000   \n",
       "calculated_host_listings_count          -0.072385          -0.047322   \n",
       "availability_365                         0.171975           0.163664   \n",
       "\n",
       "                                calculated_host_listings_count  \\\n",
       "latitude                                              0.019518   \n",
       "longitude                                            -0.114715   \n",
       "price                                                 0.057462   \n",
       "minimum_nights                                        0.127962   \n",
       "number_of_reviews                                    -0.072385   \n",
       "reviews_per_month                                    -0.047322   \n",
       "calculated_host_listings_count                        1.000000   \n",
       "availability_365                                      0.225712   \n",
       "\n",
       "                                availability_365  \n",
       "latitude                               -0.010942  \n",
       "longitude                               0.082669  \n",
       "price                                   0.081847  \n",
       "minimum_nights                          0.144275  \n",
       "number_of_reviews                       0.171975  \n",
       "reviews_per_month                       0.163664  \n",
       "calculated_host_listings_count          0.225712  \n",
       "availability_365                        1.000000  "
      ]
     },
     "execution_count": 20,
     "metadata": {},
     "output_type": "execute_result"
    }
   ],
   "source": [
    "corr = data.corr()\n",
    "corr"
   ]
  },
  {
   "cell_type": "code",
   "execution_count": 21,
   "id": "ca23eb7f",
   "metadata": {},
   "outputs": [
    {
     "data": {
      "text/plain": [
       "<AxesSubplot:>"
      ]
     },
     "execution_count": 21,
     "metadata": {},
     "output_type": "execute_result"
    },
    {
     "data": {
      "image/png": "[encoded data removed]",
      "text/plain": [
       "<Figure size 1080x576 with 2 Axes>"
      ]
     },
     "metadata": {},
     "output_type": "display_data"
    }
   ],
   "source": [
    "plt.figure(figsize=(15,8))\n",
    "sns.heatmap(corr, annot=True)"
   ]
  },
  {
   "cell_type": "markdown",
   "id": "6a9a46bb",
   "metadata": {},
   "source": [
    "#### Log transform data to normal distribution\n",
    "Log function does not accept negative/zero values. *0.000000001* is added to avoid division error.  "
   ]
  },
  {
   "cell_type": "code",
   "execution_count": 22,
   "id": "82fea110",
   "metadata": {},
   "outputs": [],
   "source": [
    "data.minimum_nights += 0.000000001\n",
    "data['minimum_nights'] = np.log10(data['minimum_nights'])\n",
    "data.number_of_reviews += 0.000000001\n",
    "data['number_of_reviews'] = np.log10(data['number_of_reviews'])\n",
    "data.reviews_per_month += 0.000000001\n",
    "data['reviews_per_month'] = np.log10(data['reviews_per_month'])\n",
    "data.calculated_host_listings_count += 0.000000001\n",
    "data['calculated_host_listings_count'] = np.log10(data['calculated_host_listings_count'])\n",
    "data.availability_365 += 0.000000001\n",
    "data['availability_365'] = np.log10(data['availability_365'])"
   ]
  },
  {
   "cell_type": "markdown",
   "id": "094f4ef1",
   "metadata": {},
   "source": [
    "**Encode neighbourhood_group, neighbourhood and room_type**"
   ]
  },
  {
   "cell_type": "code",
   "execution_count": 23,
   "id": "7dd2470c",
   "metadata": {},
   "outputs": [
    {
     "data": {
      "text/html": [
       "<div>\n",
       "<style scoped>\n",
       "    .dataframe tbody tr th:only-of-type {\n",
       "        vertical-align: middle;\n",
       "    }\n",
       "\n",
       "    .dataframe tbody tr th {\n",
       "        vertical-align: top;\n",
       "    }\n",
       "\n",
       "    .dataframe thead th {\n",
       "        text-align: right;\n",
       "    }\n",
       "</style>\n",
       "<table border=\"1\" class=\"dataframe\">\n",
       "  <thead>\n",
       "    <tr style=\"text-align: right;\">\n",
       "      <th></th>\n",
       "      <th>latitude</th>\n",
       "      <th>longitude</th>\n",
       "      <th>price</th>\n",
       "      <th>minimum_nights</th>\n",
       "      <th>number_of_reviews</th>\n",
       "      <th>reviews_per_month</th>\n",
       "      <th>calculated_host_listings_count</th>\n",
       "      <th>availability_365</th>\n",
       "      <th>ng_Bronx</th>\n",
       "      <th>ng_Brooklyn</th>\n",
       "      <th>...</th>\n",
       "      <th>nh_Williamsburg</th>\n",
       "      <th>nh_Willowbrook</th>\n",
       "      <th>nh_Windsor Terrace</th>\n",
       "      <th>nh_Woodhaven</th>\n",
       "      <th>nh_Woodlawn</th>\n",
       "      <th>nh_Woodrow</th>\n",
       "      <th>nh_Woodside</th>\n",
       "      <th>rt_Entire home/apt</th>\n",
       "      <th>rt_Private room</th>\n",
       "      <th>rt_Shared room</th>\n",
       "    </tr>\n",
       "  </thead>\n",
       "  <tbody>\n",
       "    <tr>\n",
       "      <th>0</th>\n",
       "      <td>40.64749</td>\n",
       "      <td>-73.97237</td>\n",
       "      <td>149</td>\n",
       "      <td>4.342945e-10</td>\n",
       "      <td>0.954243</td>\n",
       "      <td>-0.677781</td>\n",
       "      <td>7.781513e-01</td>\n",
       "      <td>2.562293</td>\n",
       "      <td>0</td>\n",
       "      <td>1</td>\n",
       "      <td>...</td>\n",
       "      <td>0</td>\n",
       "      <td>0</td>\n",
       "      <td>0</td>\n",
       "      <td>0</td>\n",
       "      <td>0</td>\n",
       "      <td>0</td>\n",
       "      <td>0</td>\n",
       "      <td>0</td>\n",
       "      <td>1</td>\n",
       "      <td>0</td>\n",
       "    </tr>\n",
       "    <tr>\n",
       "      <th>1</th>\n",
       "      <td>40.75362</td>\n",
       "      <td>-73.98377</td>\n",
       "      <td>225</td>\n",
       "      <td>4.342945e-10</td>\n",
       "      <td>1.653213</td>\n",
       "      <td>-0.420216</td>\n",
       "      <td>3.010300e-01</td>\n",
       "      <td>2.550228</td>\n",
       "      <td>0</td>\n",
       "      <td>0</td>\n",
       "      <td>...</td>\n",
       "      <td>0</td>\n",
       "      <td>0</td>\n",
       "      <td>0</td>\n",
       "      <td>0</td>\n",
       "      <td>0</td>\n",
       "      <td>0</td>\n",
       "      <td>0</td>\n",
       "      <td>1</td>\n",
       "      <td>0</td>\n",
       "      <td>0</td>\n",
       "    </tr>\n",
       "    <tr>\n",
       "      <th>2</th>\n",
       "      <td>40.80902</td>\n",
       "      <td>-73.94190</td>\n",
       "      <td>150</td>\n",
       "      <td>4.771213e-01</td>\n",
       "      <td>-9.000000</td>\n",
       "      <td>-9.000000</td>\n",
       "      <td>4.342945e-10</td>\n",
       "      <td>2.562293</td>\n",
       "      <td>0</td>\n",
       "      <td>0</td>\n",
       "      <td>...</td>\n",
       "      <td>0</td>\n",
       "      <td>0</td>\n",
       "      <td>0</td>\n",
       "      <td>0</td>\n",
       "      <td>0</td>\n",
       "      <td>0</td>\n",
       "      <td>0</td>\n",
       "      <td>0</td>\n",
       "      <td>1</td>\n",
       "      <td>0</td>\n",
       "    </tr>\n",
       "    <tr>\n",
       "      <th>3</th>\n",
       "      <td>40.68514</td>\n",
       "      <td>-73.95976</td>\n",
       "      <td>89</td>\n",
       "      <td>4.342945e-10</td>\n",
       "      <td>2.431364</td>\n",
       "      <td>0.666518</td>\n",
       "      <td>4.342945e-10</td>\n",
       "      <td>2.287802</td>\n",
       "      <td>0</td>\n",
       "      <td>1</td>\n",
       "      <td>...</td>\n",
       "      <td>0</td>\n",
       "      <td>0</td>\n",
       "      <td>0</td>\n",
       "      <td>0</td>\n",
       "      <td>0</td>\n",
       "      <td>0</td>\n",
       "      <td>0</td>\n",
       "      <td>1</td>\n",
       "      <td>0</td>\n",
       "      <td>0</td>\n",
       "    </tr>\n",
       "    <tr>\n",
       "      <th>4</th>\n",
       "      <td>40.79851</td>\n",
       "      <td>-73.94399</td>\n",
       "      <td>80</td>\n",
       "      <td>1.000000e+00</td>\n",
       "      <td>0.954243</td>\n",
       "      <td>-1.000000</td>\n",
       "      <td>4.342945e-10</td>\n",
       "      <td>-9.000000</td>\n",
       "      <td>0</td>\n",
       "      <td>0</td>\n",
       "      <td>...</td>\n",
       "      <td>0</td>\n",
       "      <td>0</td>\n",
       "      <td>0</td>\n",
       "      <td>0</td>\n",
       "      <td>0</td>\n",
       "      <td>0</td>\n",
       "      <td>0</td>\n",
       "      <td>1</td>\n",
       "      <td>0</td>\n",
       "      <td>0</td>\n",
       "    </tr>\n",
       "  </tbody>\n",
       "</table>\n",
       "<p>5 rows × 237 columns</p>\n",
       "</div>"
      ],
      "text/plain": [
       "   latitude  longitude  price  minimum_nights  number_of_reviews  \\\n",
       "0  40.64749  -73.97237    149    4.342945e-10           0.954243   \n",
       "1  40.75362  -73.98377    225    4.342945e-10           1.653213   \n",
       "2  40.80902  -73.94190    150    4.771213e-01          -9.000000   \n",
       "3  40.68514  -73.95976     89    4.342945e-10           2.431364   \n",
       "4  40.79851  -73.94399     80    1.000000e+00           0.954243   \n",
       "\n",
       "   reviews_per_month  calculated_host_listings_count  availability_365  \\\n",
       "0          -0.677781                    7.781513e-01          2.562293   \n",
       "1          -0.420216                    3.010300e-01          2.550228   \n",
       "2          -9.000000                    4.342945e-10          2.562293   \n",
       "3           0.666518                    4.342945e-10          2.287802   \n",
       "4          -1.000000                    4.342945e-10         -9.000000   \n",
       "\n",
       "   ng_Bronx  ng_Brooklyn  ...  nh_Williamsburg  nh_Willowbrook  \\\n",
       "0         0            1  ...                0               0   \n",
       "1         0            0  ...                0               0   \n",
       "2         0            0  ...                0               0   \n",
       "3         0            1  ...                0               0   \n",
       "4         0            0  ...                0               0   \n",
       "\n",
       "   nh_Windsor Terrace  nh_Woodhaven  nh_Woodlawn  nh_Woodrow  nh_Woodside  \\\n",
       "0                   0             0            0           0            0   \n",
       "1                   0             0            0           0            0   \n",
       "2                   0             0            0           0            0   \n",
       "3                   0             0            0           0            0   \n",
       "4                   0             0            0           0            0   \n",
       "\n",
       "   rt_Entire home/apt  rt_Private room  rt_Shared room  \n",
       "0                   0                1               0  \n",
       "1                   1                0               0  \n",
       "2                   0                1               0  \n",
       "3                   1                0               0  \n",
       "4                   1                0               0  \n",
       "\n",
       "[5 rows x 237 columns]"
      ]
     },
     "execution_count": 23,
     "metadata": {},
     "output_type": "execute_result"
    }
   ],
   "source": [
    "prep_data = pd.get_dummies(data, columns=['neighbourhood_group', 'neighbourhood', 'room_type'], prefix = ['ng', 'nh', 'rt'])\n",
    "prep_data.head()"
   ]
  },
  {
   "cell_type": "markdown",
   "id": "686bc30b",
   "metadata": {},
   "source": [
    "### ML Models (All)\n",
    "The training models take in all values, including the outliers"
   ]
  },
  {
   "cell_type": "code",
   "execution_count": 24,
   "id": "b3aa42f6",
   "metadata": {},
   "outputs": [],
   "source": [
    "# Create X and y\n",
    "X = prep_data.drop(columns=['price'], axis=1)\n",
    "y = prep_data.price\n",
    "y = np.log10(y)\n",
    "\n",
    "x_train, x_test, y_train, y_test = train_test_split(X, y, test_size=0.3, random_state=1)"
   ]
  },
  {
   "cell_type": "markdown",
   "id": "77d4d5a4",
   "metadata": {},
   "source": [
    "#### Linear Regression"
   ]
  },
  {
   "cell_type": "code",
   "execution_count": 25,
   "id": "37114f32",
   "metadata": {},
   "outputs": [],
   "source": [
    "# Instantiate and fit.\n",
    "linreg = LinearRegression()\n",
    "linreg.fit(x_train, y_train)\n",
    "y_pred = linreg.predict(x_test)"
   ]
  },
  {
   "cell_type": "code",
   "execution_count": 26,
   "id": "7c87eda2",
   "metadata": {},
   "outputs": [
    {
     "name": "stdout",
     "output_type": "stream",
     "text": [
      "r2 Score: -507890049008.6311\n",
      "MSE: 46621337668.32796\n",
      "RMSE: 215919.7482129135\n"
     ]
    }
   ],
   "source": [
    "# predicting the accuracy score\n",
    "score = r2_score(y_test, y_pred)\n",
    "mse = mean_squared_error(y_test, y_pred)\n",
    "rmse = np.sqrt(mean_squared_error(y_test, y_pred))\n",
    "\n",
    "print('r2 Score: {}'.format(score))\n",
    "print('MSE: {}'.format(mse))\n",
    "print('RMSE: {}'.format(rmse))"
   ]
  },
  {
   "cell_type": "markdown",
   "id": "f8dea342",
   "metadata": {},
   "source": [
    "#### Decision Tree"
   ]
  },
  {
   "cell_type": "code",
   "execution_count": 27,
   "id": "5c914398",
   "metadata": {},
   "outputs": [],
   "source": [
    "clf = DecisionTreeRegressor(random_state=1) \n",
    "clf.fit(x_train, y_train)\n",
    "y_pred = clf.predict(x_test)"
   ]
  },
  {
   "cell_type": "code",
   "execution_count": 28,
   "id": "388af5bc",
   "metadata": {},
   "outputs": [
    {
     "name": "stdout",
     "output_type": "stream",
     "text": [
      "r2 Score: 0.239103534382605\n",
      "MSE: 0.06984584778410016\n",
      "RMSE: 0.2642836502398515\n"
     ]
    }
   ],
   "source": [
    "# predicting the accuracy score\n",
    "score = r2_score(y_test, y_pred)\n",
    "mse = mean_squared_error(y_test, y_pred)\n",
    "rmse = np.sqrt(mean_squared_error(y_test, y_pred))\n",
    "\n",
    "print('r2 Score: {}'.format(score))\n",
    "print('MSE: {}'.format(mse))\n",
    "print('RMSE: {}'.format(rmse))"
   ]
  },
  {
   "cell_type": "markdown",
   "id": "0e0dbcdb",
   "metadata": {},
   "source": [
    "#### Random Forest Regression"
   ]
  },
  {
   "cell_type": "code",
   "execution_count": 29,
   "id": "36ceb117",
   "metadata": {},
   "outputs": [],
   "source": [
    "from sklearn.ensemble import RandomForestRegressor\n",
    "forest_reg = RandomForestRegressor()\n",
    "forest_reg.fit(x_train, y_train)\n",
    "\n",
    "y_pred = forest_reg.predict(x_test)"
   ]
  },
  {
   "cell_type": "code",
   "execution_count": 30,
   "id": "06c86717",
   "metadata": {},
   "outputs": [
    {
     "name": "stdout",
     "output_type": "stream",
     "text": [
      "r2 Score: 0.5882960192213689\n",
      "MSE: 0.03779201885270918\n",
      "RMSE: 0.19440169457262757\n"
     ]
    }
   ],
   "source": [
    "# predicting the accuracy score\n",
    "score = r2_score(y_test, y_pred)\n",
    "mse = mean_squared_error(y_test, y_pred)\n",
    "rmse = np.sqrt(mean_squared_error(y_test, y_pred))\n",
    "\n",
    "print('r2 Score: {}'.format(score))\n",
    "print('MSE: {}'.format(mse))\n",
    "print('RMSE: {}'.format(rmse))"
   ]
  },
  {
   "cell_type": "markdown",
   "id": "eea0b79d",
   "metadata": {},
   "source": [
    "### Find the maximum"
   ]
  },
  {
   "cell_type": "code",
   "execution_count": 31,
   "id": "f824ae83",
   "metadata": {},
   "outputs": [
    {
     "data": {
      "text/plain": [
       "<AxesSubplot:>"
      ]
     },
     "execution_count": 31,
     "metadata": {},
     "output_type": "execute_result"
    },
    {
     "data": {
      "image/png": "[encoded data removed]",
      "text/plain": [
       "<Figure size 432x288 with 1 Axes>"
      ]
     },
     "metadata": {},
     "output_type": "display_data"
    }
   ],
   "source": [
    "prep_data.boxplot(column=['price'], showfliers=False)"
   ]
  },
  {
   "cell_type": "code",
   "execution_count": 32,
   "id": "67fb65b1",
   "metadata": {},
   "outputs": [
    {
     "data": {
      "text/plain": [
       "334.0"
      ]
     },
     "execution_count": 32,
     "metadata": {},
     "output_type": "execute_result"
    }
   ],
   "source": [
    "Q1 = prep_data['price'].quantile(0.25)\n",
    "Q3 = prep_data['price'].quantile(0.75)\n",
    "IQR = Q3 - Q1\n",
    "\n",
    "upper_fence = Q3 + (1.5 * IQR)\n",
    "upper_fence"
   ]
  },
  {
   "cell_type": "markdown",
   "id": "144a767c",
   "metadata": {},
   "source": [
    "### ML Models (Price < upper_fence)\n",
    "The training models take in all values that are below the maximum"
   ]
  },
  {
   "cell_type": "code",
   "execution_count": 33,
   "id": "09bef618",
   "metadata": {},
   "outputs": [],
   "source": [
    "data_filtered_low = prep_data.loc[(data['price'] < upper_fence)]\n",
    "                                  \n",
    "# Create X and y\n",
    "X = data_filtered_low.drop(columns=['price'], axis=1)\n",
    "y = data_filtered_low.price\n",
    "y = np.log10(y)\n",
    "\n",
    "x_train, x_test, y_train, y_test = train_test_split(X, y, test_size=0.3, random_state=1)"
   ]
  },
  {
   "cell_type": "markdown",
   "id": "85f7d1a1",
   "metadata": {},
   "source": [
    "#### Linear Regression"
   ]
  },
  {
   "cell_type": "code",
   "execution_count": 34,
   "id": "16974a7c",
   "metadata": {},
   "outputs": [],
   "source": [
    "# Instantiate and fit.\n",
    "linreg = LinearRegression()\n",
    "linreg.fit(x_train, y_train)\n",
    "y_pred = linreg.predict(x_test)"
   ]
  },
  {
   "cell_type": "code",
   "execution_count": 35,
   "id": "c1ea6a48",
   "metadata": {},
   "outputs": [
    {
     "name": "stdout",
     "output_type": "stream",
     "text": [
      "r2 Score: -5771191538786168.0\n",
      "MSE: 361185248951505.2\n",
      "RMSE: 19004874.34716434\n"
     ]
    }
   ],
   "source": [
    "# predicting the accuracy score\n",
    "score = r2_score(y_test, y_pred)\n",
    "mse = mean_squared_error(y_test, y_pred)\n",
    "rmse = np.sqrt(mean_squared_error(y_test, y_pred))\n",
    "\n",
    "print('r2 Score: {}'.format(score))\n",
    "print('MSE: {}'.format(mse))\n",
    "print('RMSE: {}'.format(rmse))"
   ]
  },
  {
   "cell_type": "markdown",
   "id": "2e7ef15a",
   "metadata": {},
   "source": [
    "#### Decision Tree"
   ]
  },
  {
   "cell_type": "code",
   "execution_count": 36,
   "id": "8a1dccef",
   "metadata": {},
   "outputs": [],
   "source": [
    "clf = DecisionTreeRegressor(random_state=1) \n",
    "clf.fit(x_train, y_train)\n",
    "y_pred = clf.predict(x_test)"
   ]
  },
  {
   "cell_type": "code",
   "execution_count": 37,
   "id": "71ca09e3",
   "metadata": {},
   "outputs": [
    {
     "name": "stdout",
     "output_type": "stream",
     "text": [
      "r2 Score: 0.29498422304776517\n",
      "MSE: 0.04412282926357171\n",
      "RMSE: 0.21005434835673292\n"
     ]
    }
   ],
   "source": [
    "# predicting the accuracy score\n",
    "score = r2_score(y_test, y_pred)\n",
    "mse = mean_squared_error(y_test, y_pred)\n",
    "rmse = np.sqrt(mean_squared_error(y_test, y_pred))\n",
    "\n",
    "print('r2 Score: {}'.format(score))\n",
    "print('MSE: {}'.format(mse))\n",
    "print('RMSE: {}'.format(rmse))"
   ]
  },
  {
   "cell_type": "markdown",
   "id": "4fa71b98",
   "metadata": {},
   "source": [
    "#### Random Forest Regression"
   ]
  },
  {
   "cell_type": "code",
   "execution_count": 38,
   "id": "a51ce585",
   "metadata": {},
   "outputs": [],
   "source": [
    "from sklearn.ensemble import RandomForestRegressor\n",
    "forest_reg = RandomForestRegressor()\n",
    "forest_reg.fit(x_train, y_train)\n",
    "\n",
    "y_pred = forest_reg.predict(x_test)"
   ]
  },
  {
   "cell_type": "code",
   "execution_count": 39,
   "id": "ae4ddc1b",
   "metadata": {},
   "outputs": [
    {
     "name": "stdout",
     "output_type": "stream",
     "text": [
      "r2 Score: 0.6329480715056187\n",
      "MSE: 0.0229716413465731\n",
      "RMSE: 0.1515639843319418\n"
     ]
    }
   ],
   "source": [
    "# predicting the accuracy score\n",
    "score = r2_score(y_test, y_pred)\n",
    "mse = mean_squared_error(y_test, y_pred)\n",
    "rmse = np.sqrt(mean_squared_error(y_test, y_pred))\n",
    "\n",
    "print('r2 Score: {}'.format(score))\n",
    "print('MSE: {}'.format(mse))\n",
    "print('RMSE: {}'.format(rmse))"
   ]
  },
  {
   "cell_type": "markdown",
   "id": "9fb9bca1",
   "metadata": {},
   "source": [
    "### ML Models (Price > upper_fence)\n",
    "The training models take in all values that are above the maximum"
   ]
  },
  {
   "cell_type": "code",
   "execution_count": 40,
   "id": "40d5bc59",
   "metadata": {},
   "outputs": [],
   "source": [
    "data_filtered_high = prep_data.loc[(data['price'] > upper_fence)]\n",
    "                                  \n",
    "# Create X and y\n",
    "X = data_filtered_high.drop(columns=['price'], axis=1)\n",
    "y = data_filtered_high.price\n",
    "y = np.log10(y)\n",
    "\n",
    "x_train, x_test, y_train, y_test = train_test_split(X, y, test_size=0.3, random_state=1)"
   ]
  },
  {
   "cell_type": "markdown",
   "id": "a90661cf",
   "metadata": {},
   "source": [
    "#### Linear Regression"
   ]
  },
  {
   "cell_type": "code",
   "execution_count": 41,
   "id": "dda51658",
   "metadata": {},
   "outputs": [],
   "source": [
    "# Instantiate and fit.\n",
    "linreg = LinearRegression()\n",
    "linreg.fit(x_train, y_train)\n",
    "y_pred = linreg.predict(x_test)"
   ]
  },
  {
   "cell_type": "code",
   "execution_count": 42,
   "id": "4f3a09e0",
   "metadata": {},
   "outputs": [
    {
     "name": "stdout",
     "output_type": "stream",
     "text": [
      "r2 Score: -5.435843535585452e+18\n",
      "MSE: 2.6780628577030794e+17\n",
      "RMSE: 517500034.56068283\n"
     ]
    }
   ],
   "source": [
    "# predicting the accuracy score\n",
    "score = r2_score(y_test, y_pred)\n",
    "mse = mean_squared_error(y_test, y_pred)\n",
    "rmse = np.sqrt(mean_squared_error(y_test, y_pred))\n",
    "\n",
    "print('r2 Score: {}'.format(score))\n",
    "print('MSE: {}'.format(mse))\n",
    "print('RMSE: {}'.format(rmse))"
   ]
  },
  {
   "cell_type": "markdown",
   "id": "3085a81b",
   "metadata": {},
   "source": [
    "#### Decision Tree"
   ]
  },
  {
   "cell_type": "code",
   "execution_count": 43,
   "id": "5985a7cf",
   "metadata": {},
   "outputs": [],
   "source": [
    "clf = DecisionTreeRegressor(random_state=1) \n",
    "clf.fit(x_train, y_train)\n",
    "y_pred = clf.predict(x_test)"
   ]
  },
  {
   "cell_type": "code",
   "execution_count": 44,
   "id": "9b4529d2",
   "metadata": {},
   "outputs": [
    {
     "name": "stdout",
     "output_type": "stream",
     "text": [
      "r2 Score: -1.1041461274185504\n",
      "MSE: 0.10366441848684459\n",
      "RMSE: 0.3219695924879314\n"
     ]
    }
   ],
   "source": [
    "# predicting the accuracy score\n",
    "score = r2_score(y_test, y_pred)\n",
    "mse = mean_squared_error(y_test, y_pred)\n",
    "rmse = np.sqrt(mean_squared_error(y_test, y_pred))\n",
    "\n",
    "print('r2 Score: {}'.format(score))\n",
    "print('MSE: {}'.format(mse))\n",
    "print('RMSE: {}'.format(rmse))"
   ]
  },
  {
   "cell_type": "markdown",
   "id": "395acd90",
   "metadata": {},
   "source": [
    "#### Random Forest Regression"
   ]
  },
  {
   "cell_type": "code",
   "execution_count": 45,
   "id": "44811e07",
   "metadata": {},
   "outputs": [],
   "source": [
    "from sklearn.ensemble import RandomForestRegressor\n",
    "forest_reg = RandomForestRegressor()\n",
    "forest_reg.fit(x_train, y_train)\n",
    "y_pred = forest_reg.predict(x_test)"
   ]
  },
  {
   "cell_type": "code",
   "execution_count": 46,
   "id": "4650765e",
   "metadata": {},
   "outputs": [
    {
     "name": "stdout",
     "output_type": "stream",
     "text": [
      "r2 Score: 0.11285311612749127\n",
      "MSE: 0.04370683415504362\n",
      "RMSE: 0.20906179506319086\n"
     ]
    }
   ],
   "source": [
    "# predicting the accuracy score\n",
    "score = r2_score(y_test, y_pred)\n",
    "mse = mean_squared_error(y_test, y_pred)\n",
    "rmse = np.sqrt(mean_squared_error(y_test, y_pred))\n",
    "\n",
    "print('r2 Score: {}'.format(score))\n",
    "print('MSE: {}'.format(mse))\n",
    "print('RMSE: {}'.format(rmse))"
   ]
  },
  {
   "cell_type": "markdown",
   "id": "e42d921d",
   "metadata": {},
   "source": [
    "### Conclusion"
   ]
  },
  {
   "cell_type": "markdown",
   "id": "dc71346a",
   "metadata": {},
   "source": [
    "The models are trained using different sets of data:\n",
    "* data with outliers\n",
    "* data below maximum (< \\$334)\n",
    "* data above maximum (> \\$334)\n",
    "\n",
    "\n",
    "From all the models that we used, Random Forest Regression Model provides the highest accuracy score. Among the 3 datasets, the datasets below maximum produces the higest accuracy score *(r2 score = 0.63259)*. However, the observations are insufficient to accurately suggest the best suitable price. "
   ]
  }
 ],
 "metadata": {
  "kernelspec": {
   "display_name": "Python 3",
   "language": "python",
   "name": "python3"
  },
  "language_info": {
   "codemirror_mode": {
    "name": "ipython",
    "version": 3
   },
   "file_extension": ".py",
   "mimetype": "text/x-python",
   "name": "python",
   "nbconvert_exporter": "python",
   "pygments_lexer": "ipython3",
   "version": "3.8.8"
  }
 },
 "nbformat": 4,
 "nbformat_minor": 5
}
